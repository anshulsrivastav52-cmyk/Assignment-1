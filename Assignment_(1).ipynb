{
  "nbformat": 4,
  "nbformat_minor": 0,
  "metadata": {
    "colab": {
      "provenance": []
    },
    "kernelspec": {
      "name": "python3",
      "display_name": "Python 3"
    },
    "language_info": {
      "name": "python"
    }
  },
  "cells": [
    {
      "cell_type": "markdown",
      "source": [],
      "metadata": {
        "id": "El_nLtsFoxo9"
      }
    },
    {
      "cell_type": "markdown",
      "source": [
        "#basics of python\n",
        "  questions\n",
        "  \n",
        "  \n",
        "  Q1. What is Python, and why is it popular?\n",
        "\n",
        "Answer:\n",
        "Python is a high-level, interpreted programming language known for its simple syntax and versatility. It is used in web development, data science, automation, artificial intelligence, and more.\n",
        "\n",
        "Reasons for popularity:\n",
        "\n",
        "1. Easy to learn and read – syntax like English.\n",
        "\n",
        "\n",
        "2. Versatile – supports multiple domains.\n",
        "\n",
        "\n",
        "3. Large library support.\n",
        "\n",
        "\n",
        "4. Cross-platform compatibility.\n",
        "\n",
        "\n",
        "5. Strong community support.\n",
        "\n",
        "Q2 what is an interpreter in python\n",
        "\n",
        "Answer:\n",
        "An interpreter is a program that executes Python code line by line, directly translating it into machine-readable instructions without needing prior compilation.\n",
        "\n",
        "Q3. What are pre-defined keywords in Python?\n",
        "\n",
        "Answer:\n",
        "Pre-defined keywords are reserved words in Python with special meaning that cannot be used as variable names.\n",
        "\n",
        "\n",
        "Q4.Can keywords be used as variable names in Python?\n",
        "\n",
        "Answer:\n",
        "No, keywords cannot be used as variable names in Python.\n",
        "\n",
        "Keywords are reserved words that have special meaning in Python, so using them as variable names will cause a syntax error.\n",
        "\n",
        "Q5. What is mutability in Python?\n",
        "\n",
        "Answer:\n",
        "Mutability refers to whether the value of an object can be changed after it is created.\n",
        "\n",
        "Mutable objects → can be changed in place (like lists, dictionaries).\n",
        "\n",
        "Immutable objects → cannot be changed after creation (like strings, tuples).\n",
        "\n",
        "Q6. Why are lists mutable, but tuples are immutable?\n",
        "\n",
        "Answer:\n",
        "Lists are mutable, meaning their elements can be added, removed, or changed after creation.\n",
        "\n",
        "Tuples are immutable, meaning once created, their elements cannot be modified.\n",
        "\n",
        "This distinction helps in choosing the right data structure for tasks requiring fixed or flexible data.\n",
        "\n",
        "\n",
        "Q7. Difference between “==” and “is” operators in Python\n",
        "\n",
        "Answer:\n",
        "== checks if the values of two objects are the same.\n",
        "\n",
        "is checks if two objects refer to the same memory location.\n",
        "\n",
        "Use == for value comparison and is for object identity.\n",
        "\n",
        "\n",
        "\n",
        "Q8.What are logical operators in Python\n",
        "\n",
        "Answer:\n",
        "\n",
        "Logical operators are used to combine multiple conditions:\n",
        "\n",
        "and → True if both conditions are True\n",
        "\n",
        "or → True if at least one condition is True\n",
        "\n",
        "not → Reverses the boolean value\n",
        "\n",
        "\n",
        "They are essential in decision-making statements and complex conditions.\n",
        "\n",
        "\n",
        "Q9. What is type casting in Python\n",
        "\n",
        "Answer\n",
        "\n",
        "Type casting is the process of converting one data type into another.\n",
        "\n",
        "It ensures that operations between different data types can be performed without errors.\n",
        "\n",
        "Python supports implicit (automatic) and explicit (manual) type casting.\n",
        "\n",
        "\n",
        "\n",
        "\n",
        "\n",
        "Q10. Difference between implicit and explicit type casting\n",
        "\n",
        "Answer\n",
        "\n",
        "Implicit type casting: Python automatically converts a smaller data type into a larger one (e.g., int + float → float).\n",
        "\n",
        "Explicit type casting: Programmer manually converts data type using functions like int(), float(), str().\n",
        "\n",
        "Choosing the right type casting ensures accuracy and avoids errors in calculations.\n",
        "\n",
        "\n",
        "\n",
        "Q11. Purpose of conditional statements in Python\n",
        "\n",
        "Answer\n",
        "\n",
        "Conditional statements allow a program to make decisions based on certain conditions.\n",
        "\n",
        "They control which block of code executes depending on whether the condition is True or False.\n",
        "\n",
        "They are fundamental for dynamic program behavior.\n",
        "\n",
        "\n",
        "Q12. How does the elif statement work\n",
        "\n",
        "\n",
        "Answer\n",
        "elif (else if) checks another condition only if previous conditions are False.\n",
        "\n",
        "It avoids writing multiple separate if statements, making code cleaner and more readable.\n",
        "\n",
        "Essential for multi-branch decision-making.\n",
        "\n",
        "\n",
        "\n",
        "\n",
        "\n",
        "Q13. Difference between for and while loops\n",
        "\n",
        "answer\n",
        "\n",
        "for loop → Iterates over a sequence of elements, useful when the number of iterations is known.\n",
        "\n",
        "while loop → Repeats as long as a condition is True, useful when iterations are unknown.\n",
        "\n",
        "Choosing the right loop ensures efficient and readable code.\n",
        "\n",
        "\n",
        "\n",
        "\n",
        "Q14. Scenario where a while loop is more suitable than a for loop\n",
        "\n",
        "\n",
        "Answer\n",
        "\n",
        "Use a while loop when the number of iterations cannot be determined in advance.\n",
        "\n",
        "Example: Keep asking the user for input until the input meets certain criteria.\n",
        "\n",
        "While loops provide flexibility for dynamic conditions.\n",
        "\n",
        "\n"
      ],
      "metadata": {
        "id": "hKuQI1kGqdfH"
      }
    },
    {
      "cell_type": "code",
      "source": [
        "#practical\n",
        "#Q1. write a python  program to print \"Hello world\"\n",
        "print(\"Hello world\")"
      ],
      "metadata": {
        "colab": {
          "base_uri": "https://localhost:8080/"
        },
        "id": "q3fU6X876wUs",
        "outputId": "5385965b-0a65-4332-c908-00113317454a"
      },
      "execution_count": null,
      "outputs": [
        {
          "output_type": "stream",
          "name": "stdout",
          "text": [
            "Hello world\n"
          ]
        }
      ]
    },
    {
      "cell_type": "code",
      "source": [
        "Write a Python program that displays your name and age8\n",
        "print(\"Anshul kumar.\",\"my age is 22.\")"
      ],
      "metadata": {
        "colab": {
          "base_uri": "https://localhost:8080/"
        },
        "id": "ceKw7YuO9XU3",
        "outputId": "602734eb-6d54-4cfd-d461-910422342ef5"
      },
      "execution_count": null,
      "outputs": [
        {
          "output_type": "stream",
          "name": "stdout",
          "text": [
            "Anshul kumar. my age is 22.\n"
          ]
        }
      ]
    },
    {
      "cell_type": "code",
      "source": [
        "#3.  Write code to print all the pre-defined keywords in Python using the keyword library\n",
        "import keyword\n",
        "print(\"python keywords are\")\n",
        "print(keyword.kwlist)"
      ],
      "metadata": {
        "colab": {
          "base_uri": "https://localhost:8080/"
        },
        "id": "uJOJTx9e_qi5",
        "outputId": "616e8149-cbec-484c-8670-f3d83eb54e99"
      },
      "execution_count": null,
      "outputs": [
        {
          "output_type": "stream",
          "name": "stdout",
          "text": [
            "python keywords are\n",
            "['False', 'None', 'True', 'and', 'as', 'assert', 'async', 'await', 'break', 'class', 'continue', 'def', 'del', 'elif', 'else', 'except', 'finally', 'for', 'from', 'global', 'if', 'import', 'in', 'is', 'lambda', 'nonlocal', 'not', 'or', 'pass', 'raise', 'return', 'try', 'while', 'with', 'yield']\n"
          ]
        }
      ]
    },
    {
      "cell_type": "code",
      "source": [
        "#4. Write a program that checks if a given word is a Python keyword.\n",
        "import keyword\n",
        "word=input(\"Enter the word\")\n",
        "list_keywords=keyword.kwlist\n",
        "if word in list_keywords:\n",
        "  print(\"It is a Keyword\")\n",
        "else:\n",
        "  print(\"It is not a keyword\")"
      ],
      "metadata": {
        "colab": {
          "base_uri": "https://localhost:8080/"
        },
        "id": "lMVF-McYAMQ_",
        "outputId": "8782956b-a07c-4cd3-d1ff-01f029eb7b63"
      },
      "execution_count": null,
      "outputs": [
        {
          "output_type": "stream",
          "name": "stdout",
          "text": [
            "Enter the worddef\n",
            "It is a Keyword\n"
          ]
        }
      ]
    },
    {
      "cell_type": "code",
      "source": [
        "from typing import Tuple\n",
        "#5. Create a list and tuple in Python, and demonstrate how attempting to change an element works differently for each.\n",
        "#list(mutable)\n",
        "my_list = [10, 20, 30]\n",
        "my_list[1]=50 #change second element\n",
        "print(\"list after change:\",my_list)\n",
        "\n",
        "#Tuple(immutable)\n",
        "my_tuple = [10, 20, 30 ]\n",
        "# my_tuple[1] = 50 this will given error\n",
        "print(\"Tuple cannot be changed:\",my_tuple)"
      ],
      "metadata": {
        "colab": {
          "base_uri": "https://localhost:8080/"
        },
        "id": "gKf0CtBCA-I9",
        "outputId": "aefa6dca-1675-4628-f37d-110079aa759c"
      },
      "execution_count": null,
      "outputs": [
        {
          "output_type": "stream",
          "name": "stdout",
          "text": [
            "list after change: [10, 50, 30]\n",
            "Tuple cannot be changed: [10, 20, 30]\n"
          ]
        }
      ]
    },
    {
      "cell_type": "code",
      "source": [
        "#6. Write a function to demonstrate the behavior of mutable and immutable arguments.\n",
        "def mutable():\n",
        "  my_lst=[1,2,6,4]#list\n",
        "  print(\"original list: \",my_lst)\n",
        "  #changing an element in list\n",
        "  my_lst[2]=5\n",
        "  print(\"list after changing an element :\",my_lst)\n",
        "def immutable():\n",
        "  my_tuple=(2,4,3,6,) #tuple\n",
        "  print(\"original tuple: \",my_tuple)\n",
        "  #changing an element in list\n",
        "  try:\n",
        "    my_tuple[2]=5\n",
        "    print(\"Tuple after changing an element :\",my_tuple)\n",
        "  except:\n",
        "    print(\"Tuple is Immutable\")\n",
        "\n",
        "mutable()\n",
        "immutable()\n"
      ],
      "metadata": {
        "colab": {
          "base_uri": "https://localhost:8080/"
        },
        "id": "80J2pwTjFc3V",
        "outputId": "359856ff-7727-4c69-e2e4-6d412e439b27"
      },
      "execution_count": null,
      "outputs": [
        {
          "output_type": "stream",
          "name": "stdout",
          "text": [
            "original list:  [1, 2, 6, 4]\n",
            "list after changing an element : [1, 2, 5, 4]\n",
            "original tuple:  (2, 4, 3, 6)\n",
            "Tuple is Immutable\n"
          ]
        }
      ]
    },
    {
      "cell_type": "code",
      "source": [
        "#7. Write a program that performs basic arithmetic operations on two user-input numbers.\n",
        "num1=int(input(\"Enter the first number\"))\n",
        "num2=int(input(\"Enter the second number\"))\n",
        "print(\"Addition of two number :\",num1+num2)\n",
        "print(\"Subtraction of two number :\",num1-num2)\n",
        "print(\"Multiplication of two number :\",num1*num2)\n",
        "print(\"Division of two number :\",num1/num2)\n",
        "print(\"modulous of two number :\",num1%num2)\n",
        "print(\"Floor Division of two number :\",num1//num2)\n",
        "print(\"Exponential of two number :\",num1/num2)\n"
      ],
      "metadata": {
        "colab": {
          "base_uri": "https://localhost:8080/"
        },
        "id": "8Yq7Mkv2FmJm",
        "outputId": "c0a4d8cd-fd95-42a5-ff37-aa517b2b241e"
      },
      "execution_count": null,
      "outputs": [
        {
          "output_type": "stream",
          "name": "stdout",
          "text": [
            "Enter the first number56\n",
            "Enter the second number67\n",
            "Addition of two number : 123\n",
            "Subtraction of two number : -11\n",
            "Multiplication of two number : 3752\n",
            "Division of two number : 0.835820895522388\n",
            "modulous of two number : 56\n",
            "Floor Division of two number : 0\n",
            "Exponential of two number : 0.835820895522388\n"
          ]
        }
      ]
    },
    {
      "cell_type": "code",
      "source": [
        "#8. Write a program to demonstrate the use of logical operators.\n",
        "num1=True\n",
        "num2=False\n",
        "print(\"logical Operator and :\",num1 and num2)\n",
        "print(\"logical Operator or :\",num1 or num2)\n",
        "print(\"logical Operator not :\",not num1 )"
      ],
      "metadata": {
        "colab": {
          "base_uri": "https://localhost:8080/"
        },
        "id": "6DQXRLGRF4S4",
        "outputId": "2571f8ec-5a84-476d-d76f-9204a27fda50"
      },
      "execution_count": null,
      "outputs": [
        {
          "output_type": "stream",
          "name": "stdout",
          "text": [
            "logical Operator and : False\n",
            "logical Operator or : True\n",
            "logical Operator not : False\n"
          ]
        }
      ]
    },
    {
      "cell_type": "code",
      "source": [
        "#9.  Write a Python program to convert user input from string to integer, float, and boolean types.\n",
        "user_input=input(\"Enter the number\")\n",
        "print(\"User_input :\",user_input)\n",
        "if user_input.isdigit():\n",
        "  #String --> integer\n",
        "  print(\"User input in integer:\",int(user_input))\n",
        "  #String --> float\n",
        "  print(\"User input in float:\",float(user_input))\n",
        "  #String --> boolean\n",
        "  print(\"User input in boolean:\",bool(user_input))\n",
        "else:\n",
        "  print(\"Invalid Input , Enter a digit\")"
      ],
      "metadata": {
        "colab": {
          "base_uri": "https://localhost:8080/"
        },
        "id": "3vKXc5qFGOPu",
        "outputId": "8248101f-3dcf-429e-fa9e-812aed1ec47f"
      },
      "execution_count": null,
      "outputs": [
        {
          "output_type": "stream",
          "name": "stdout",
          "text": [
            "Enter the number67\n",
            "User_input : 67\n",
            "User input in integer: 67\n",
            "User input in float: 67.0\n",
            "User input in boolean: True\n"
          ]
        }
      ]
    },
    {
      "cell_type": "code",
      "source": [
        "#10. Write code to demonstrate type casting with list elements.\n",
        "\n",
        "#lst1 consist of float and integer\n",
        "def implicit(lst1):\n",
        "  total_sum=sum(lst1)\n",
        "  print(total_sum)\n",
        "\n",
        "def explicit(lst2):\n",
        "  num=[int(i) for i in lst2]\n",
        "  total_sum2=sum(num)\n",
        "  print(total_sum2)\n",
        "\n",
        "#lst2 consist of string and integer\n",
        "lst1=[1,2,3.3,4.5,6.0]\n",
        "lst2=['1','2','3','4','5']\n",
        "implicit(lst1)\n",
        "explicit(lst2)\n",
        "\n"
      ],
      "metadata": {
        "colab": {
          "base_uri": "https://localhost:8080/"
        },
        "id": "Z74UnXnoGig8",
        "outputId": "506bccab-81e0-4c44-a2a5-02057502ef4e"
      },
      "execution_count": null,
      "outputs": [
        {
          "output_type": "stream",
          "name": "stdout",
          "text": [
            "16.8\n",
            "15\n"
          ]
        }
      ]
    },
    {
      "cell_type": "code",
      "source": [
        "#12. . Write a for loop to print numbers from 1 to 10.\n",
        "for i in range(1,11):\n",
        "  print(i)"
      ],
      "metadata": {
        "colab": {
          "base_uri": "https://localhost:8080/"
        },
        "id": "Rz7pa6R_Gtz8",
        "outputId": "2137321d-3c70-4067-f1d2-7beda321bf91"
      },
      "execution_count": null,
      "outputs": [
        {
          "output_type": "stream",
          "name": "stdout",
          "text": [
            "1\n",
            "2\n",
            "3\n",
            "4\n",
            "5\n",
            "6\n",
            "7\n",
            "8\n",
            "9\n",
            "10\n"
          ]
        }
      ]
    },
    {
      "cell_type": "code",
      "source": [
        "#13.  Write a Python program to find the sum of all even numbers between 1 and 50.\n",
        "sum=0\n",
        "for i in range(2,51,2):\n",
        "  sum+=i\n",
        "print(sum)"
      ],
      "metadata": {
        "colab": {
          "base_uri": "https://localhost:8080/"
        },
        "id": "_mISOmhCHMg3",
        "outputId": "3d0943e4-403f-40f1-9af9-c5baf8147a06"
      },
      "execution_count": null,
      "outputs": [
        {
          "output_type": "stream",
          "name": "stdout",
          "text": [
            "650\n"
          ]
        }
      ]
    },
    {
      "cell_type": "code",
      "source": [
        "#14. Write a program to reverse a string using a while loop.\n",
        "string=input(\"Enter the string\")\n",
        "i=len(string)-1\n",
        "while i>=0:\n",
        "  print(string[i],end=\"\")\n",
        "  i-=1\n"
      ],
      "metadata": {
        "colab": {
          "base_uri": "https://localhost:8080/"
        },
        "id": "NVzsjJE_HaUL",
        "outputId": "0b0964ff-499b-4422-9715-a8af590c3ada"
      },
      "execution_count": null,
      "outputs": [
        {
          "output_type": "stream",
          "name": "stdout",
          "text": [
            "Enter the string\"hello world\"\n",
            "\"dlrow olleh\""
          ]
        }
      ]
    }
  ]
}